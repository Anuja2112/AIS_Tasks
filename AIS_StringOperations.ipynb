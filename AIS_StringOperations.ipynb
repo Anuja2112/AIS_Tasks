{
 "cells": [
  {
   "cell_type": "code",
   "execution_count": 1,
   "id": "cdc00807",
   "metadata": {},
   "outputs": [
    {
     "data": {
      "text/plain": [
       "'Anuja Kulkarni'"
      ]
     },
     "execution_count": 1,
     "metadata": {},
     "output_type": "execute_result"
    }
   ],
   "source": [
    "#Creating string\n",
    "str=\"Anuja Kulkarni\" #----->we can use ' ' or \" \" or''' ''' to define a string\n",
    "str"
   ]
  },
  {
   "cell_type": "code",
   "execution_count": 2,
   "id": "83394eb5",
   "metadata": {},
   "outputs": [
    {
     "data": {
      "text/plain": [
       "str"
      ]
     },
     "execution_count": 2,
     "metadata": {},
     "output_type": "execute_result"
    }
   ],
   "source": [
    "type(str)"
   ]
  },
  {
   "cell_type": "code",
   "execution_count": 8,
   "id": "96e4816e",
   "metadata": {},
   "outputs": [
    {
     "data": {
      "text/plain": [
       "'u'"
      ]
     },
     "execution_count": 8,
     "metadata": {},
     "output_type": "execute_result"
    }
   ],
   "source": [
    "#index\n",
    "str[2]"
   ]
  },
  {
   "cell_type": "code",
   "execution_count": 6,
   "id": "da213d62",
   "metadata": {},
   "outputs": [
    {
     "name": "stdout",
     "output_type": "stream",
     "text": [
      "Hey...!\n",
      "        Im Anuja\n",
      "                thank youuu!\n"
     ]
    }
   ],
   "source": [
    "#to print string in multiple paragraphs\n",
    "s=\"\"\"Hey...!\n",
    "        Im Anuja\n",
    "                thank youuu!\"\"\"\n",
    "print(s)"
   ]
  },
  {
   "cell_type": "code",
   "execution_count": 10,
   "id": "30b74dfa",
   "metadata": {},
   "outputs": [
    {
     "data": {
      "text/plain": [
       "'Anuja Kulkarni'"
      ]
     },
     "execution_count": 10,
     "metadata": {},
     "output_type": "execute_result"
    }
   ],
   "source": [
    "s=\"Anuja Kulkarni\"\n",
    "s"
   ]
  },
  {
   "cell_type": "code",
   "execution_count": 11,
   "id": "d8fabb2a",
   "metadata": {},
   "outputs": [
    {
     "data": {
      "text/plain": [
       "'uja'"
      ]
     },
     "execution_count": 11,
     "metadata": {},
     "output_type": "execute_result"
    }
   ],
   "source": [
    "#Accessing characters from string\n",
    "s[2:5]"
   ]
  },
  {
   "cell_type": "code",
   "execution_count": 12,
   "id": "0183fe86",
   "metadata": {},
   "outputs": [
    {
     "data": {
      "text/plain": [
       "'Anuja K'"
      ]
     },
     "execution_count": 12,
     "metadata": {},
     "output_type": "execute_result"
    }
   ],
   "source": [
    "s[0:7]"
   ]
  },
  {
   "cell_type": "code",
   "execution_count": 13,
   "id": "a7a3fa2f",
   "metadata": {},
   "outputs": [
    {
     "data": {
      "text/plain": [
       "'Anuja Kulkarni'"
      ]
     },
     "execution_count": 13,
     "metadata": {},
     "output_type": "execute_result"
    }
   ],
   "source": [
    "s[:]"
   ]
  },
  {
   "cell_type": "code",
   "execution_count": 14,
   "id": "6c8affe3",
   "metadata": {},
   "outputs": [
    {
     "ename": "IndexError",
     "evalue": "string index out of range",
     "output_type": "error",
     "traceback": [
      "\u001b[1;31m---------------------------------------------------------------------------\u001b[0m",
      "\u001b[1;31mIndexError\u001b[0m                                Traceback (most recent call last)",
      "Cell \u001b[1;32mIn[14], line 1\u001b[0m\n\u001b[1;32m----> 1\u001b[0m s[\u001b[38;5;241m20\u001b[39m]\n",
      "\u001b[1;31mIndexError\u001b[0m: string index out of range"
     ]
    }
   ],
   "source": [
    "s[20] #---->index out of range error"
   ]
  },
  {
   "cell_type": "code",
   "execution_count": 15,
   "id": "3b055367",
   "metadata": {},
   "outputs": [
    {
     "ename": "TypeError",
     "evalue": "slice indices must be integers or None or have an __index__ method",
     "output_type": "error",
     "traceback": [
      "\u001b[1;31m---------------------------------------------------------------------------\u001b[0m",
      "\u001b[1;31mTypeError\u001b[0m                                 Traceback (most recent call last)",
      "Cell \u001b[1;32mIn[15], line 1\u001b[0m\n\u001b[1;32m----> 1\u001b[0m s[\u001b[38;5;241m0.2\u001b[39m:\u001b[38;5;241m3\u001b[39m]\n",
      "\u001b[1;31mTypeError\u001b[0m: slice indices must be integers or None or have an __index__ method"
     ]
    }
   ],
   "source": [
    "s[0.2:3] #we cant use method other than integer"
   ]
  },
  {
   "cell_type": "code",
   "execution_count": 16,
   "id": "35f72a8d",
   "metadata": {},
   "outputs": [
    {
     "data": {
      "text/plain": [
       "'Anuja kulkarni'"
      ]
     },
     "execution_count": 16,
     "metadata": {},
     "output_type": "execute_result"
    }
   ],
   "source": [
    "#capitalize:\n",
    "s.capitalize()"
   ]
  },
  {
   "cell_type": "code",
   "execution_count": 18,
   "id": "ba6a3fa0",
   "metadata": {},
   "outputs": [
    {
     "data": {
      "text/plain": [
       "2"
      ]
     },
     "execution_count": 18,
     "metadata": {},
     "output_type": "execute_result"
    }
   ],
   "source": [
    "#count:\n",
    "s.count(\"a\")"
   ]
  },
  {
   "cell_type": "code",
   "execution_count": 19,
   "id": "056e5ad1",
   "metadata": {},
   "outputs": [
    {
     "data": {
      "text/plain": [
       "True"
      ]
     },
     "execution_count": 19,
     "metadata": {},
     "output_type": "execute_result"
    }
   ],
   "source": [
    "#startswith\n",
    "s.startswith(\"A\")"
   ]
  },
  {
   "cell_type": "code",
   "execution_count": 20,
   "id": "6288abaf",
   "metadata": {},
   "outputs": [
    {
     "data": {
      "text/plain": [
       "True"
      ]
     },
     "execution_count": 20,
     "metadata": {},
     "output_type": "execute_result"
    }
   ],
   "source": [
    "#endswith\n",
    "s.endswith(\"i\")"
   ]
  },
  {
   "cell_type": "code",
   "execution_count": 21,
   "id": "5683189c",
   "metadata": {},
   "outputs": [
    {
     "data": {
      "text/plain": [
       "-1"
      ]
     },
     "execution_count": 21,
     "metadata": {},
     "output_type": "execute_result"
    }
   ],
   "source": [
    "#find\n",
    "s.find(\"z\")#works same as index but--->>>>>>if the assigned item is not present then it returns value as -1"
   ]
  },
  {
   "cell_type": "code",
   "execution_count": 22,
   "id": "73f72eb1",
   "metadata": {},
   "outputs": [
    {
     "data": {
      "text/plain": [
       "False"
      ]
     },
     "execution_count": 22,
     "metadata": {},
     "output_type": "execute_result"
    }
   ],
   "source": [
    "#isalpha\n",
    "s.isalpha()\n"
   ]
  },
  {
   "cell_type": "code",
   "execution_count": 23,
   "id": "b77f8438",
   "metadata": {},
   "outputs": [
    {
     "data": {
      "text/plain": [
       "False"
      ]
     },
     "execution_count": 23,
     "metadata": {},
     "output_type": "execute_result"
    }
   ],
   "source": [
    "#islower\n",
    "s.islower()"
   ]
  },
  {
   "cell_type": "code",
   "execution_count": 25,
   "id": "679a907d",
   "metadata": {},
   "outputs": [
    {
     "data": {
      "text/plain": [
       "False"
      ]
     },
     "execution_count": 25,
     "metadata": {},
     "output_type": "execute_result"
    }
   ],
   "source": [
    "#isupper\n",
    "s.isupper()"
   ]
  },
  {
   "cell_type": "code",
   "execution_count": 26,
   "id": "d95d149f",
   "metadata": {},
   "outputs": [
    {
     "data": {
      "text/plain": [
       "'!!!!!!!!!!!!!!p********* STRING will assign here**********'"
      ]
     },
     "execution_count": 26,
     "metadata": {},
     "output_type": "execute_result"
    }
   ],
   "source": [
    "st=\"!!!!!!!!!!!!!!p********* STRING will assign here**********\"\n",
    "st"
   ]
  },
  {
   "cell_type": "code",
   "execution_count": 31,
   "id": "4656cb37",
   "metadata": {},
   "outputs": [
    {
     "data": {
      "text/plain": [
       "'!!!!!!!!!!!!!!p********* STRING will assign here**********'"
      ]
     },
     "execution_count": 31,
     "metadata": {},
     "output_type": "execute_result"
    }
   ],
   "source": [
    "#lstrip\n",
    "st.lstrip(\"\")"
   ]
  },
  {
   "cell_type": "code",
   "execution_count": 29,
   "id": "e775f09e",
   "metadata": {},
   "outputs": [
    {
     "data": {
      "text/plain": [
       "'!!!!!!!!!!!!!!p********* STRING will assign here'"
      ]
     },
     "execution_count": 29,
     "metadata": {},
     "output_type": "execute_result"
    }
   ],
   "source": [
    "#rstrip\n",
    "st.rstrip(\"*\")"
   ]
  },
  {
   "cell_type": "code",
   "execution_count": 32,
   "id": "439024ed",
   "metadata": {},
   "outputs": [
    {
     "data": {
      "text/plain": [
       "58"
      ]
     },
     "execution_count": 32,
     "metadata": {},
     "output_type": "execute_result"
    }
   ],
   "source": [
    "#len\n",
    "len(st)"
   ]
  },
  {
   "cell_type": "code",
   "execution_count": 3,
   "id": "d68b5cfa",
   "metadata": {},
   "outputs": [
    {
     "data": {
      "text/plain": [
       "'a*s*d* *f*g*h'"
      ]
     },
     "execution_count": 3,
     "metadata": {},
     "output_type": "execute_result"
    }
   ],
   "source": [
    "#join\n",
    "ss=\"asd fgh\"\n",
    "a=\"*\"\n",
    "a.join(ss)"
   ]
  },
  {
   "cell_type": "code",
   "execution_count": 9,
   "id": "8d605068",
   "metadata": {},
   "outputs": [
    {
     "data": {
      "text/plain": [
       "'Anuja Kulkarni'"
      ]
     },
     "execution_count": 9,
     "metadata": {},
     "output_type": "execute_result"
    }
   ],
   "source": [
    "m=\"Anuja Kulkarni\"\n",
    "m"
   ]
  },
  {
   "cell_type": "code",
   "execution_count": 10,
   "id": "e514b637",
   "metadata": {},
   "outputs": [
    {
     "data": {
      "text/plain": [
       "'ANUJA KULKARNI'"
      ]
     },
     "execution_count": 10,
     "metadata": {},
     "output_type": "execute_result"
    }
   ],
   "source": [
    "#upper\n",
    "m.upper()"
   ]
  },
  {
   "cell_type": "code",
   "execution_count": 11,
   "id": "f208eee3",
   "metadata": {},
   "outputs": [
    {
     "data": {
      "text/plain": [
       "'anuja kulkarni'"
      ]
     },
     "execution_count": 11,
     "metadata": {},
     "output_type": "execute_result"
    }
   ],
   "source": [
    "#lower\n",
    "m.lower()"
   ]
  },
  {
   "cell_type": "code",
   "execution_count": 12,
   "id": "2a5d90a7",
   "metadata": {},
   "outputs": [
    {
     "data": {
      "text/plain": [
       "'Arya Kulkarni'"
      ]
     },
     "execution_count": 12,
     "metadata": {},
     "output_type": "execute_result"
    }
   ],
   "source": [
    "#replace\n",
    "m.replace(\"Anuja\",\"Arya\")"
   ]
  },
  {
   "cell_type": "code",
   "execution_count": 30,
   "id": "675c7aee",
   "metadata": {},
   "outputs": [
    {
     "data": {
      "text/plain": [
       "'Hey there'"
      ]
     },
     "execution_count": 30,
     "metadata": {},
     "output_type": "execute_result"
    }
   ],
   "source": [
    "my_str=\"Hey there\"\n",
    "my_str"
   ]
  },
  {
   "cell_type": "code",
   "execution_count": 5,
   "id": "a68f20a2",
   "metadata": {},
   "outputs": [
    {
     "data": {
      "text/plain": [
       "['Anuja', 'Sunil', 'Kulkarni']"
      ]
     },
     "execution_count": 5,
     "metadata": {},
     "output_type": "execute_result"
    }
   ],
   "source": [
    "s=\"Anuja Sunil Kulkarni \"\n",
    "a=s.split()\n",
    "a"
   ]
  },
  {
   "cell_type": "code",
   "execution_count": null,
   "id": "050be782",
   "metadata": {},
   "outputs": [],
   "source": []
  }
 ],
 "metadata": {
  "kernelspec": {
   "display_name": "Python 3 (ipykernel)",
   "language": "python",
   "name": "python3"
  },
  "language_info": {
   "codemirror_mode": {
    "name": "ipython",
    "version": 3
   },
   "file_extension": ".py",
   "mimetype": "text/x-python",
   "name": "python",
   "nbconvert_exporter": "python",
   "pygments_lexer": "ipython3",
   "version": "3.11.5"
  }
 },
 "nbformat": 4,
 "nbformat_minor": 5
}

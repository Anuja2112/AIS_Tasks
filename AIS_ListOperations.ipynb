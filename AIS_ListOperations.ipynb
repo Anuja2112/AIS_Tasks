{
 "cells": [
  {
   "cell_type": "code",
   "execution_count": 2,
   "id": "b5a87146",
   "metadata": {},
   "outputs": [
    {
     "data": {
      "text/plain": [
       "['Anuja', 1, 'Atharv', 2, 'Arya', 3, 'Parth', 4]"
      ]
     },
     "execution_count": 2,
     "metadata": {},
     "output_type": "execute_result"
    }
   ],
   "source": [
    "#creating list\n",
    "List=[\"Anuja\",1,\"Atharv\",2,\"Arya\",3,\"Parth\",4]\n",
    "List"
   ]
  },
  {
   "cell_type": "code",
   "execution_count": 3,
   "id": "c1eb5299",
   "metadata": {},
   "outputs": [
    {
     "data": {
      "text/plain": [
       "['Anuja', 1, 'Atharv', 2, 'Arya', 3, 'Parth', 4, 'Angha']"
      ]
     },
     "execution_count": 3,
     "metadata": {},
     "output_type": "execute_result"
    }
   ],
   "source": [
    "#append\n",
    "List.append(\"Angha\")\n",
    "List"
   ]
  },
  {
   "cell_type": "code",
   "execution_count": 7,
   "id": "d0891f7b",
   "metadata": {},
   "outputs": [
    {
     "data": {
      "text/plain": [
       "[2, 3, 45, 79, 'A']"
      ]
     },
     "execution_count": 7,
     "metadata": {},
     "output_type": "execute_result"
    }
   ],
   "source": [
    "#clear():\n",
    "List1=[2,3,45,79,\"A\"]\n",
    "List1\n"
   ]
  },
  {
   "cell_type": "code",
   "execution_count": 8,
   "id": "b27f15be",
   "metadata": {},
   "outputs": [],
   "source": [
    "List1.clear()"
   ]
  },
  {
   "cell_type": "code",
   "execution_count": 9,
   "id": "2c28eb6a",
   "metadata": {},
   "outputs": [
    {
     "data": {
      "text/plain": [
       "[]"
      ]
     },
     "execution_count": 9,
     "metadata": {},
     "output_type": "execute_result"
    }
   ],
   "source": [
    "List1"
   ]
  },
  {
   "cell_type": "code",
   "execution_count": 15,
   "id": "de7b6aa1",
   "metadata": {},
   "outputs": [
    {
     "data": {
      "text/plain": [
       "1"
      ]
     },
     "execution_count": 15,
     "metadata": {},
     "output_type": "execute_result"
    }
   ],
   "source": [
    "#Count:\n",
    "List.count(\"Arya\")\n"
   ]
  },
  {
   "cell_type": "code",
   "execution_count": 16,
   "id": "e8931822",
   "metadata": {},
   "outputs": [
    {
     "name": "stdout",
     "output_type": "stream",
     "text": [
      "[2, 3, 4, 5, 'B']\n"
     ]
    }
   ],
   "source": [
    "l1=[2,3,4,5,\"B\"]\n",
    "print(l1)"
   ]
  },
  {
   "cell_type": "code",
   "execution_count": 18,
   "id": "575eadfd",
   "metadata": {},
   "outputs": [
    {
     "data": {
      "text/plain": [
       "['Anuja',\n",
       " 1,\n",
       " 'Atharv',\n",
       " 2,\n",
       " 'Arya',\n",
       " 3,\n",
       " 'Parth',\n",
       " 4,\n",
       " 'Angha',\n",
       " 2,\n",
       " 3,\n",
       " 4,\n",
       " 5,\n",
       " 'B',\n",
       " 2,\n",
       " 3,\n",
       " 4,\n",
       " 5,\n",
       " 'B']"
      ]
     },
     "execution_count": 18,
     "metadata": {},
     "output_type": "execute_result"
    }
   ],
   "source": [
    "#extend\n",
    "List.extend(l1)\n",
    "List"
   ]
  },
  {
   "cell_type": "code",
   "execution_count": 20,
   "id": "b0494c57",
   "metadata": {},
   "outputs": [
    {
     "data": {
      "text/plain": [
       "6"
      ]
     },
     "execution_count": 20,
     "metadata": {},
     "output_type": "execute_result"
    }
   ],
   "source": [
    "#index:\n",
    "List.index(\"Parth\")\n"
   ]
  },
  {
   "cell_type": "code",
   "execution_count": 32,
   "id": "d4cd67ca",
   "metadata": {},
   "outputs": [],
   "source": [
    "#insert:\n",
    "List.insert(1,\"CS\")"
   ]
  },
  {
   "cell_type": "code",
   "execution_count": 33,
   "id": "011a9fcb",
   "metadata": {},
   "outputs": [
    {
     "data": {
      "text/plain": [
       "['Anuja',\n",
       " 'CS',\n",
       " 1,\n",
       " 'Pune',\n",
       " 'Atharv',\n",
       " 2,\n",
       " 'Arya',\n",
       " 3,\n",
       " 'Parth',\n",
       " 4,\n",
       " 'Angha',\n",
       " 2,\n",
       " 3,\n",
       " 4,\n",
       " 5,\n",
       " 'B',\n",
       " 2,\n",
       " 3,\n",
       " 4,\n",
       " 5,\n",
       " 'B']"
      ]
     },
     "execution_count": 33,
     "metadata": {},
     "output_type": "execute_result"
    }
   ],
   "source": [
    "List"
   ]
  },
  {
   "cell_type": "code",
   "execution_count": 34,
   "id": "c39af869",
   "metadata": {},
   "outputs": [
    {
     "data": {
      "text/plain": [
       "4"
      ]
     },
     "execution_count": 34,
     "metadata": {},
     "output_type": "execute_result"
    }
   ],
   "source": [
    "#pop:\n",
    "List.pop(13)"
   ]
  },
  {
   "cell_type": "code",
   "execution_count": 37,
   "id": "2ef2451b",
   "metadata": {},
   "outputs": [
    {
     "data": {
      "text/plain": [
       "['Anuja',\n",
       " 'CS',\n",
       " 1,\n",
       " 'Pune',\n",
       " 'Atharv',\n",
       " 2,\n",
       " 'Arya',\n",
       " 3,\n",
       " 'Parth',\n",
       " 4,\n",
       " 'Angha',\n",
       " 2,\n",
       " 3,\n",
       " 5,\n",
       " 2,\n",
       " 3,\n",
       " 4,\n",
       " 5]"
      ]
     },
     "execution_count": 37,
     "metadata": {},
     "output_type": "execute_result"
    }
   ],
   "source": [
    "#Remove\n",
    "List.remove(\"B\")\n",
    "List"
   ]
  },
  {
   "cell_type": "code",
   "execution_count": 41,
   "id": "25befd81",
   "metadata": {},
   "outputs": [],
   "source": [
    "#reverse:\n",
    "List.reverse()"
   ]
  },
  {
   "cell_type": "code",
   "execution_count": 42,
   "id": "f0da8b0f",
   "metadata": {},
   "outputs": [
    {
     "data": {
      "text/plain": [
       "[5,\n",
       " 4,\n",
       " 3,\n",
       " 2,\n",
       " 5,\n",
       " 3,\n",
       " 2,\n",
       " 'Angha',\n",
       " 4,\n",
       " 'Parth',\n",
       " 3,\n",
       " 'Arya',\n",
       " 2,\n",
       " 'Atharv',\n",
       " 'Pune',\n",
       " 1,\n",
       " 'CS',\n",
       " 'Anuja']"
      ]
     },
     "execution_count": 42,
     "metadata": {},
     "output_type": "execute_result"
    }
   ],
   "source": [
    "List"
   ]
  },
  {
   "cell_type": "code",
   "execution_count": 47,
   "id": "0a9fdd4f",
   "metadata": {},
   "outputs": [],
   "source": [
    "#sort\n",
    "List2=[1,23,45,64,22]\n",
    "List2.sort()"
   ]
  },
  {
   "cell_type": "code",
   "execution_count": 48,
   "id": "cb15c4d9",
   "metadata": {},
   "outputs": [
    {
     "data": {
      "text/plain": [
       "[1, 22, 23, 45, 64]"
      ]
     },
     "execution_count": 48,
     "metadata": {},
     "output_type": "execute_result"
    }
   ],
   "source": [
    "List2"
   ]
  },
  {
   "cell_type": "code",
   "execution_count": 50,
   "id": "9df518ed",
   "metadata": {},
   "outputs": [],
   "source": [
    "#copy:\n",
    "List3=List.copy()"
   ]
  },
  {
   "cell_type": "code",
   "execution_count": 51,
   "id": "0bd5b926",
   "metadata": {},
   "outputs": [
    {
     "data": {
      "text/plain": [
       "[2,\n",
       " 2,\n",
       " 3,\n",
       " 3,\n",
       " 4,\n",
       " 5,\n",
       " 5,\n",
       " 'Angha',\n",
       " 4,\n",
       " 'Parth',\n",
       " 3,\n",
       " 'Arya',\n",
       " 2,\n",
       " 'Atharv',\n",
       " 'Pune',\n",
       " 1,\n",
       " 'CS',\n",
       " 'Anuja']"
      ]
     },
     "execution_count": 51,
     "metadata": {},
     "output_type": "execute_result"
    }
   ],
   "source": [
    "List3"
   ]
  },
  {
   "cell_type": "code",
   "execution_count": null,
   "id": "ba102035",
   "metadata": {},
   "outputs": [],
   "source": []
  }
 ],
 "metadata": {
  "kernelspec": {
   "display_name": "Python 3 (ipykernel)",
   "language": "python",
   "name": "python3"
  },
  "language_info": {
   "codemirror_mode": {
    "name": "ipython",
    "version": 3
   },
   "file_extension": ".py",
   "mimetype": "text/x-python",
   "name": "python",
   "nbconvert_exporter": "python",
   "pygments_lexer": "ipython3",
   "version": "3.11.5"
  }
 },
 "nbformat": 4,
 "nbformat_minor": 5
}

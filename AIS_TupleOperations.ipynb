{
 "cells": [
  {
   "cell_type": "code",
   "execution_count": 1,
   "id": "0c217618",
   "metadata": {},
   "outputs": [
    {
     "data": {
      "text/plain": [
       "('Anuja', 'Arya', 1, 'Atharv', 2)"
      ]
     },
     "execution_count": 1,
     "metadata": {},
     "output_type": "execute_result"
    }
   ],
   "source": [
    "#Creating a tuple\n",
    "t=(\"Anuja\",\"Arya\",1,\"Atharv\",2)\n",
    "t"
   ]
  },
  {
   "cell_type": "code",
   "execution_count": 3,
   "id": "9c105743",
   "metadata": {},
   "outputs": [
    {
     "data": {
      "text/plain": [
       "tuple"
      ]
     },
     "execution_count": 3,
     "metadata": {},
     "output_type": "execute_result"
    }
   ],
   "source": [
    "type(t)"
   ]
  },
  {
   "cell_type": "code",
   "execution_count": 5,
   "id": "9af3b0d8",
   "metadata": {},
   "outputs": [
    {
     "data": {
      "text/plain": [
       "4"
      ]
     },
     "execution_count": 5,
     "metadata": {},
     "output_type": "execute_result"
    }
   ],
   "source": [
    "#index\n",
    "t.index(2)"
   ]
  },
  {
   "cell_type": "code",
   "execution_count": 8,
   "id": "95c6080a",
   "metadata": {},
   "outputs": [
    {
     "data": {
      "text/plain": [
       "1"
      ]
     },
     "execution_count": 8,
     "metadata": {},
     "output_type": "execute_result"
    }
   ],
   "source": [
    "#count\n",
    "t.count(\"Arya\")"
   ]
  },
  {
   "cell_type": "code",
   "execution_count": 10,
   "id": "1ad86a79",
   "metadata": {},
   "outputs": [
    {
     "data": {
      "text/plain": [
       "('Anuja', 'Arya', 1, 'Atharv', 2, 1, 5, 3, 4)"
      ]
     },
     "execution_count": 10,
     "metadata": {},
     "output_type": "execute_result"
    }
   ],
   "source": [
    "#concatinate\n",
    "a=(1,5,3,4)\n",
    "t+a"
   ]
  },
  {
   "cell_type": "code",
   "execution_count": 12,
   "id": "922b6f11",
   "metadata": {},
   "outputs": [
    {
     "data": {
      "text/plain": [
       "tuple"
      ]
     },
     "execution_count": 12,
     "metadata": {},
     "output_type": "execute_result"
    }
   ],
   "source": [
    "#Empty tuple\n",
    "s=()\n",
    "type(s)"
   ]
  },
  {
   "cell_type": "code",
   "execution_count": 14,
   "id": "6bb6d7c5",
   "metadata": {},
   "outputs": [
    {
     "data": {
      "text/plain": [
       "tuple"
      ]
     },
     "execution_count": 14,
     "metadata": {},
     "output_type": "execute_result"
    }
   ],
   "source": [
    "#Tuple is used without using parenthesis\n",
    "s\n",
    "type(s)"
   ]
  },
  {
   "cell_type": "code",
   "execution_count": 17,
   "id": "44424d2a",
   "metadata": {},
   "outputs": [
    {
     "data": {
      "text/plain": [
       "3"
      ]
     },
     "execution_count": 17,
     "metadata": {},
     "output_type": "execute_result"
    }
   ],
   "source": [
    "#index\n",
    "t\n",
    "t.index(\"Atharv\")"
   ]
  },
  {
   "cell_type": "code",
   "execution_count": 23,
   "id": "5dd98778",
   "metadata": {},
   "outputs": [
    {
     "data": {
      "text/plain": [
       "2"
      ]
     },
     "execution_count": 23,
     "metadata": {},
     "output_type": "execute_result"
    }
   ],
   "source": [
    "#Negative Index\n",
    "t[-1]"
   ]
  },
  {
   "cell_type": "code",
   "execution_count": 24,
   "id": "d030e296",
   "metadata": {},
   "outputs": [
    {
     "data": {
      "text/plain": [
       "('Anuja', 'Arya', 1, 'Atharv', 2)"
      ]
     },
     "execution_count": 24,
     "metadata": {},
     "output_type": "execute_result"
    }
   ],
   "source": [
    "#slicing\n",
    "t"
   ]
  },
  {
   "cell_type": "code",
   "execution_count": 25,
   "id": "eaf917a8",
   "metadata": {},
   "outputs": [
    {
     "data": {
      "text/plain": [
       "('Arya', 1)"
      ]
     },
     "execution_count": 25,
     "metadata": {},
     "output_type": "execute_result"
    }
   ],
   "source": [
    "t[1:3]"
   ]
  },
  {
   "cell_type": "code",
   "execution_count": 29,
   "id": "ae36ea3c",
   "metadata": {},
   "outputs": [
    {
     "data": {
      "text/plain": [
       "('Atharv',)"
      ]
     },
     "execution_count": 29,
     "metadata": {},
     "output_type": "execute_result"
    }
   ],
   "source": [
    "t[3:-1]"
   ]
  },
  {
   "cell_type": "code",
   "execution_count": 30,
   "id": "305948a7",
   "metadata": {},
   "outputs": [
    {
     "ename": "TypeError",
     "evalue": "'tuple' object does not support item assignment",
     "output_type": "error",
     "traceback": [
      "\u001b[1;31m---------------------------------------------------------------------------\u001b[0m",
      "\u001b[1;31mTypeError\u001b[0m                                 Traceback (most recent call last)",
      "Cell \u001b[1;32mIn[30], line 1\u001b[0m\n\u001b[1;32m----> 1\u001b[0m t[\u001b[38;5;241m1\u001b[39m]\u001b[38;5;241m=\u001b[39m\u001b[38;5;124m\"\u001b[39m\u001b[38;5;124mS\u001b[39m\u001b[38;5;124m\"\u001b[39m\n",
      "\u001b[1;31mTypeError\u001b[0m: 'tuple' object does not support item assignment"
     ]
    }
   ],
   "source": [
    "#append not works\n",
    "t[1]=\"S\""
   ]
  },
  {
   "cell_type": "code",
   "execution_count": 33,
   "id": "d3103da1",
   "metadata": {},
   "outputs": [
    {
     "data": {
      "text/plain": [
       "True"
      ]
     },
     "execution_count": 33,
     "metadata": {},
     "output_type": "execute_result"
    }
   ],
   "source": [
    "#in operation\n",
    "\"Anuja\" in t"
   ]
  },
  {
   "cell_type": "code",
   "execution_count": 32,
   "id": "1e9cd0b6",
   "metadata": {},
   "outputs": [
    {
     "data": {
      "text/plain": [
       "False"
      ]
     },
     "execution_count": 32,
     "metadata": {},
     "output_type": "execute_result"
    }
   ],
   "source": [
    "#not in\n",
    "\"Parth\" in t"
   ]
  },
  {
   "cell_type": "code",
   "execution_count": 34,
   "id": "3926b527",
   "metadata": {},
   "outputs": [
    {
     "data": {
      "text/plain": [
       "('Anuja', 'Arya', 1, 'Atharv', 2)"
      ]
     },
     "execution_count": 34,
     "metadata": {},
     "output_type": "execute_result"
    }
   ],
   "source": [
    "t"
   ]
  },
  {
   "cell_type": "code",
   "execution_count": 35,
   "id": "e495f656",
   "metadata": {},
   "outputs": [
    {
     "ename": "AttributeError",
     "evalue": "'tuple' object has no attribute 'copy'",
     "output_type": "error",
     "traceback": [
      "\u001b[1;31m---------------------------------------------------------------------------\u001b[0m",
      "\u001b[1;31mAttributeError\u001b[0m                            Traceback (most recent call last)",
      "Cell \u001b[1;32mIn[35], line 1\u001b[0m\n\u001b[1;32m----> 1\u001b[0m t\u001b[38;5;241m.\u001b[39mcopy(t1)\n",
      "\u001b[1;31mAttributeError\u001b[0m: 'tuple' object has no attribute 'copy'"
     ]
    }
   ],
   "source": [
    "#Copy ----> not works\n",
    "t.copy(t1)"
   ]
  }
 ],
 "metadata": {
  "kernelspec": {
   "display_name": "Python 3 (ipykernel)",
   "language": "python",
   "name": "python3"
  },
  "language_info": {
   "codemirror_mode": {
    "name": "ipython",
    "version": 3
   },
   "file_extension": ".py",
   "mimetype": "text/x-python",
   "name": "python",
   "nbconvert_exporter": "python",
   "pygments_lexer": "ipython3",
   "version": "3.11.5"
  }
 },
 "nbformat": 4,
 "nbformat_minor": 5
}

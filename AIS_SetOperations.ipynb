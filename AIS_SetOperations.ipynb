{
 "cells": [
  {
   "cell_type": "code",
   "execution_count": 1,
   "id": "60764510",
   "metadata": {},
   "outputs": [],
   "source": [
    "s={1,\"Anuja\",2,\"Arya\",3,4,\"Pune\",\"Sangli\",5,6,7}"
   ]
  },
  {
   "cell_type": "code",
   "execution_count": 2,
   "id": "22b1805b",
   "metadata": {},
   "outputs": [
    {
     "data": {
      "text/plain": [
       "{1, 2, 3, 4, 5, 6, 7, 'Anuja', 'Arya', 'Pune', 'Sangli'}"
      ]
     },
     "execution_count": 2,
     "metadata": {},
     "output_type": "execute_result"
    }
   ],
   "source": [
    "s"
   ]
  },
  {
   "cell_type": "code",
   "execution_count": 3,
   "id": "1c6ddc30",
   "metadata": {},
   "outputs": [],
   "source": [
    "#add\n",
    "s.add(\"Angha\")"
   ]
  },
  {
   "cell_type": "code",
   "execution_count": 4,
   "id": "2cc9ceab",
   "metadata": {},
   "outputs": [
    {
     "data": {
      "text/plain": [
       "{1, 2, 3, 4, 5, 6, 7, 'Angha', 'Anuja', 'Arya', 'Pune', 'Sangli'}"
      ]
     },
     "execution_count": 4,
     "metadata": {},
     "output_type": "execute_result"
    }
   ],
   "source": [
    "s"
   ]
  },
  {
   "cell_type": "code",
   "execution_count": 5,
   "id": "64ee41de",
   "metadata": {},
   "outputs": [],
   "source": [
    "s1={1,2,3,4,5,6,7,8}"
   ]
  },
  {
   "cell_type": "code",
   "execution_count": 33,
   "id": "f92eed41",
   "metadata": {},
   "outputs": [],
   "source": [
    "#difference\n",
    "d=s.difference(s1)"
   ]
  },
  {
   "cell_type": "code",
   "execution_count": 34,
   "id": "a6d285ab",
   "metadata": {},
   "outputs": [
    {
     "data": {
      "text/plain": [
       "{'Angha', 'Anuja', 'Arya', 'Pune', 'Sangli'}"
      ]
     },
     "execution_count": 34,
     "metadata": {},
     "output_type": "execute_result"
    }
   ],
   "source": [
    "d"
   ]
  },
  {
   "cell_type": "code",
   "execution_count": 35,
   "id": "6b0c915f",
   "metadata": {},
   "outputs": [
    {
     "data": {
      "text/plain": [
       "{'Angha', 'Anuja', 'Arya', 'Pune', 'Sangli'}"
      ]
     },
     "execution_count": 35,
     "metadata": {},
     "output_type": "execute_result"
    }
   ],
   "source": [
    "s"
   ]
  },
  {
   "cell_type": "code",
   "execution_count": 36,
   "id": "4488d168",
   "metadata": {},
   "outputs": [
    {
     "data": {
      "text/plain": [
       "{1, 2, 3, 4, 5, 6, 7, 8, 'Satara'}"
      ]
     },
     "execution_count": 36,
     "metadata": {},
     "output_type": "execute_result"
    }
   ],
   "source": [
    "s1"
   ]
  },
  {
   "cell_type": "code",
   "execution_count": 43,
   "id": "19d8dd54",
   "metadata": {},
   "outputs": [
    {
     "name": "stdout",
     "output_type": "stream",
     "text": [
      "None\n"
     ]
    }
   ],
   "source": [
    "#difference_update--->remove \n",
    "d1=s1.difference_update(s)\n",
    "print(d1)"
   ]
  },
  {
   "cell_type": "code",
   "execution_count": 44,
   "id": "aaedaeaf",
   "metadata": {},
   "outputs": [],
   "source": [
    "#discard--->removes particular element and not raise error\n",
    "s.discard(\"Angha\")"
   ]
  },
  {
   "cell_type": "code",
   "execution_count": 45,
   "id": "4ed292b2",
   "metadata": {},
   "outputs": [
    {
     "data": {
      "text/plain": [
       "{'Anuja', 'Arya', 'Pune', 'Sangli'}"
      ]
     },
     "execution_count": 45,
     "metadata": {},
     "output_type": "execute_result"
    }
   ],
   "source": [
    "s"
   ]
  },
  {
   "cell_type": "code",
   "execution_count": 49,
   "id": "81d1b99a",
   "metadata": {},
   "outputs": [],
   "source": [
    "s.add(\"Satara\")"
   ]
  },
  {
   "cell_type": "code",
   "execution_count": 50,
   "id": "15b16ab2",
   "metadata": {},
   "outputs": [],
   "source": [
    "s.add(2)"
   ]
  },
  {
   "cell_type": "code",
   "execution_count": 51,
   "id": "78e57a57",
   "metadata": {},
   "outputs": [
    {
     "data": {
      "text/plain": [
       "{2, 'Anuja', 'Arya', 'Pune', 'Sangli', 'Satara'}"
      ]
     },
     "execution_count": 51,
     "metadata": {},
     "output_type": "execute_result"
    }
   ],
   "source": [
    "s"
   ]
  },
  {
   "cell_type": "code",
   "execution_count": 52,
   "id": "a2c6d6cf",
   "metadata": {},
   "outputs": [],
   "source": [
    "#intersection--->common elements from both sets\n",
    "z=s.intersection(s1)"
   ]
  },
  {
   "cell_type": "code",
   "execution_count": 71,
   "id": "779981bf",
   "metadata": {},
   "outputs": [],
   "source": [
    "s={1,\"Anuja\",2,\"Arya\",3,4,\"Pune\",\"Sangli\",5,6,7}"
   ]
  },
  {
   "cell_type": "code",
   "execution_count": 69,
   "id": "ae0aa7e1",
   "metadata": {},
   "outputs": [
    {
     "data": {
      "text/plain": [
       "{1, 2, 3, 4, 5, 6, 7}"
      ]
     },
     "execution_count": 69,
     "metadata": {},
     "output_type": "execute_result"
    }
   ],
   "source": [
    "s1={1,2,3,4,5,6,7,8}"
   ]
  },
  {
   "cell_type": "code",
   "execution_count": 72,
   "id": "853e7f55",
   "metadata": {},
   "outputs": [
    {
     "data": {
      "text/plain": [
       "{1, 2, 3, 4, 5, 6, 7, 'Anuja', 'Arya', 'Pune', 'Sangli'}"
      ]
     },
     "execution_count": 72,
     "metadata": {},
     "output_type": "execute_result"
    }
   ],
   "source": [
    "s"
   ]
  },
  {
   "cell_type": "code",
   "execution_count": 74,
   "id": "86ff98fd",
   "metadata": {},
   "outputs": [],
   "source": [
    "#intersection_update--->removes the items that is not present in both sets\n",
    "s.intersection_update(s1)"
   ]
  },
  {
   "cell_type": "code",
   "execution_count": 75,
   "id": "f81d5320",
   "metadata": {},
   "outputs": [
    {
     "data": {
      "text/plain": [
       "{1, 2, 3, 4, 5, 6, 7}"
      ]
     },
     "execution_count": 75,
     "metadata": {},
     "output_type": "execute_result"
    }
   ],
   "source": [
    "s"
   ]
  },
  {
   "cell_type": "code",
   "execution_count": 76,
   "id": "46cc70cc",
   "metadata": {},
   "outputs": [],
   "source": [
    "#isdisjoint--->returns True if none of the items are present in both sets otherwise it returns False.\n",
    "a=s.isdisjoint(s1)"
   ]
  },
  {
   "cell_type": "code",
   "execution_count": 77,
   "id": "6bb57913",
   "metadata": {},
   "outputs": [
    {
     "data": {
      "text/plain": [
       "False"
      ]
     },
     "execution_count": 77,
     "metadata": {},
     "output_type": "execute_result"
    }
   ],
   "source": [
    "a"
   ]
  },
  {
   "cell_type": "code",
   "execution_count": 78,
   "id": "703e88ce",
   "metadata": {},
   "outputs": [
    {
     "data": {
      "text/plain": [
       "True"
      ]
     },
     "execution_count": 78,
     "metadata": {},
     "output_type": "execute_result"
    }
   ],
   "source": [
    "#issubset--->returns True if all items in the set exists in the specified set, otherwise it retuns False.\n",
    "s.issubset(s1)"
   ]
  },
  {
   "cell_type": "code",
   "execution_count": 79,
   "id": "d2842482",
   "metadata": {},
   "outputs": [
    {
     "data": {
      "text/plain": [
       "1"
      ]
     },
     "execution_count": 79,
     "metadata": {},
     "output_type": "execute_result"
    }
   ],
   "source": [
    "#pop\n",
    "s1.pop()"
   ]
  },
  {
   "cell_type": "code",
   "execution_count": 88,
   "id": "83c613d9",
   "metadata": {},
   "outputs": [
    {
     "ename": "KeyError",
     "evalue": "3",
     "output_type": "error",
     "traceback": [
      "\u001b[1;31m---------------------------------------------------------------------------\u001b[0m",
      "\u001b[1;31mKeyError\u001b[0m                                  Traceback (most recent call last)",
      "Cell \u001b[1;32mIn[88], line 2\u001b[0m\n\u001b[0;32m      1\u001b[0m \u001b[38;5;66;03m#remove\u001b[39;00m\n\u001b[1;32m----> 2\u001b[0m s\u001b[38;5;241m.\u001b[39mremove(\u001b[38;5;241m3\u001b[39m)\n\u001b[0;32m      3\u001b[0m s\n",
      "\u001b[1;31mKeyError\u001b[0m: 3"
     ]
    }
   ],
   "source": [
    "#remove\n",
    "s.remove(3)\n",
    "s"
   ]
  },
  {
   "cell_type": "code",
   "execution_count": 98,
   "id": "8dab312f",
   "metadata": {},
   "outputs": [],
   "source": [
    "s={1,\"Anuja\",2,\"Arya\",3,4,\"Pune\",\"Sangli\",5,6,7}"
   ]
  },
  {
   "cell_type": "code",
   "execution_count": 90,
   "id": "8090b280",
   "metadata": {},
   "outputs": [
    {
     "data": {
      "text/plain": [
       "{1, 2, 3, 8}"
      ]
     },
     "execution_count": 90,
     "metadata": {},
     "output_type": "execute_result"
    }
   ],
   "source": [
    "s1={1,2,3,4,5,6,7,8}"
   ]
  },
  {
   "cell_type": "code",
   "execution_count": 99,
   "id": "0f05242a",
   "metadata": {},
   "outputs": [
    {
     "data": {
      "text/plain": [
       "{1, 'Anuja', 'Arya', 'Pune', 'Sangli'}"
      ]
     },
     "execution_count": 99,
     "metadata": {},
     "output_type": "execute_result"
    }
   ],
   "source": [
    "#difference_update\n",
    "s.difference(s1)\n"
   ]
  },
  {
   "cell_type": "code",
   "execution_count": 100,
   "id": "2aa3bb93",
   "metadata": {},
   "outputs": [
    {
     "data": {
      "text/plain": [
       "{1, 8, 'Anuja', 'Arya', 'Pune', 'Sangli'}"
      ]
     },
     "execution_count": 100,
     "metadata": {},
     "output_type": "execute_result"
    }
   ],
   "source": [
    "#symmetric_difference\n",
    "s.symmetric_difference(s1)"
   ]
  },
  {
   "cell_type": "code",
   "execution_count": 117,
   "id": "cec8c8da",
   "metadata": {},
   "outputs": [],
   "source": [
    "s={1,\"Anuja\",2,\"Arya\",3,4,\"Pune\",\"Sangli\",5,6,7}\n",
    "s.add(\"Satara\")"
   ]
  },
  {
   "cell_type": "code",
   "execution_count": 118,
   "id": "dcb775db",
   "metadata": {},
   "outputs": [],
   "source": [
    "s1={1,2,3,4,5,6,7,8}\n",
    "s1.add(\"Satara\")\n"
   ]
  },
  {
   "cell_type": "code",
   "execution_count": 119,
   "id": "b135e6f5",
   "metadata": {},
   "outputs": [
    {
     "data": {
      "text/plain": [
       "{1, 2, 3, 4, 5, 6, 7, 'Anuja', 'Arya', 'Pune', 'Sangli', 'Satara'}"
      ]
     },
     "execution_count": 119,
     "metadata": {},
     "output_type": "execute_result"
    }
   ],
   "source": [
    "s"
   ]
  },
  {
   "cell_type": "code",
   "execution_count": 120,
   "id": "2e56fb1c",
   "metadata": {},
   "outputs": [
    {
     "data": {
      "text/plain": [
       "{1, 2, 3, 4, 5, 6, 7, 8, 'Satara'}"
      ]
     },
     "execution_count": 120,
     "metadata": {},
     "output_type": "execute_result"
    }
   ],
   "source": [
    "s1"
   ]
  },
  {
   "cell_type": "code",
   "execution_count": 123,
   "id": "4fc5ae78",
   "metadata": {},
   "outputs": [],
   "source": [
    "#symm_diff_update\n",
    "ss=s.symmetric_difference_update(s1)\n",
    "ss"
   ]
  },
  {
   "cell_type": "code",
   "execution_count": 125,
   "id": "e1bd9772",
   "metadata": {},
   "outputs": [
    {
     "data": {
      "text/plain": [
       "{1, 2, 3, 4, 5, 6, 7, 8, 'Anuja', 'Arya', 'Pune', 'Sangli', 'Satara'}"
      ]
     },
     "execution_count": 125,
     "metadata": {},
     "output_type": "execute_result"
    }
   ],
   "source": [
    "#union\n",
    "s.union(s1)"
   ]
  },
  {
   "cell_type": "code",
   "execution_count": 126,
   "id": "a6943db4",
   "metadata": {},
   "outputs": [],
   "source": [
    "#update\n",
    "s.update(s1)"
   ]
  },
  {
   "cell_type": "code",
   "execution_count": 127,
   "id": "1eae83f2",
   "metadata": {},
   "outputs": [
    {
     "data": {
      "text/plain": [
       "{1, 2, 3, 4, 5, 6, 7, 8, 'Anuja', 'Arya', 'Pune', 'Sangli', 'Satara'}"
      ]
     },
     "execution_count": 127,
     "metadata": {},
     "output_type": "execute_result"
    }
   ],
   "source": [
    "s"
   ]
  },
  {
   "cell_type": "code",
   "execution_count": 131,
   "id": "54e4b775",
   "metadata": {},
   "outputs": [],
   "source": [
    "#copy\n",
    "t=s.copy()"
   ]
  },
  {
   "cell_type": "code",
   "execution_count": 132,
   "id": "5dcffc34",
   "metadata": {},
   "outputs": [
    {
     "data": {
      "text/plain": [
       "{1, 2, 3, 4, 5, 6, 7, 8, 'Anuja', 'Arya', 'Pune', 'Sangli', 'Satara'}"
      ]
     },
     "execution_count": 132,
     "metadata": {},
     "output_type": "execute_result"
    }
   ],
   "source": [
    "t"
   ]
  },
  {
   "cell_type": "code",
   "execution_count": 133,
   "id": "ec2f7d0b",
   "metadata": {},
   "outputs": [],
   "source": [
    "#clear\n",
    "t.clear()"
   ]
  },
  {
   "cell_type": "code",
   "execution_count": 134,
   "id": "ebd29db5",
   "metadata": {},
   "outputs": [
    {
     "data": {
      "text/plain": [
       "set()"
      ]
     },
     "execution_count": 134,
     "metadata": {},
     "output_type": "execute_result"
    }
   ],
   "source": [
    "t"
   ]
  },
  {
   "cell_type": "code",
   "execution_count": null,
   "id": "fdafdd21",
   "metadata": {},
   "outputs": [],
   "source": []
  }
 ],
 "metadata": {
  "kernelspec": {
   "display_name": "Python 3 (ipykernel)",
   "language": "python",
   "name": "python3"
  },
  "language_info": {
   "codemirror_mode": {
    "name": "ipython",
    "version": 3
   },
   "file_extension": ".py",
   "mimetype": "text/x-python",
   "name": "python",
   "nbconvert_exporter": "python",
   "pygments_lexer": "ipython3",
   "version": "3.11.5"
  }
 },
 "nbformat": 4,
 "nbformat_minor": 5
}
